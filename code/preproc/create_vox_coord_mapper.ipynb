{
 "cells": [
  {
   "cell_type": "code",
   "execution_count": 38,
   "metadata": {},
   "outputs": [],
   "source": [
    "import pandas as pd\n",
    "import os"
   ]
  },
  {
   "cell_type": "code",
   "execution_count": 39,
   "metadata": {},
   "outputs": [],
   "source": [
    "# # base_dir = '/Users/shannon/science/HMM/HMM_MRI/omni_BIDS/'\n",
    "data_base_dir = '/Volumes/Seagate/'\n",
    "# bids_raw_dir = base_dir + 'bids_raw/'\n",
    "# mriqc_dir = bids_raw_dir + 'mriqc_reports/'\n",
    "fmriprep_dir = data_base_dir + 'derivatives/fmriprep/'\n",
    "\n",
    "# change base to location of NSF repo\n",
    "grant_dir = '/Users/davidhalpern/Documents/GitHub/identifying_causal_subsequent_memory_effects/'"
   ]
  },
  {
   "cell_type": "code",
   "execution_count": 46,
   "metadata": {},
   "outputs": [],
   "source": [
    "subj_runs_df = pd.read_csv('data/mri_subs_events_wide.csv')\n",
    "\n",
    "subjects = subj_runs_df.subject.unique()"
   ]
  },
  {
   "cell_type": "code",
   "execution_count": 51,
   "metadata": {},
   "outputs": [
    {
     "data": {
      "text/html": [
       "<div>\n",
       "<style scoped>\n",
       "    .dataframe tbody tr th:only-of-type {\n",
       "        vertical-align: middle;\n",
       "    }\n",
       "\n",
       "    .dataframe tbody tr th {\n",
       "        vertical-align: top;\n",
       "    }\n",
       "\n",
       "    .dataframe thead th {\n",
       "        text-align: right;\n",
       "    }\n",
       "</style>\n",
       "<table border=\"1\" class=\"dataframe\">\n",
       "  <thead>\n",
       "    <tr style=\"text-align: right;\">\n",
       "      <th></th>\n",
       "      <th>x</th>\n",
       "      <th>y</th>\n",
       "      <th>z</th>\n",
       "      <th>roi_num_schaeffer</th>\n",
       "      <th>roi_vox_num_schaeffer</th>\n",
       "      <th>roi_num_HarvardOxford_lat</th>\n",
       "      <th>hemisphere_HarvOxford</th>\n",
       "      <th>roi_num_HarvardOxford_bilat</th>\n",
       "    </tr>\n",
       "  </thead>\n",
       "  <tbody>\n",
       "    <tr>\n",
       "      <th>0</th>\n",
       "      <td>0</td>\n",
       "      <td>0</td>\n",
       "      <td>0</td>\n",
       "      <td>0.0</td>\n",
       "      <td>0</td>\n",
       "      <td>0</td>\n",
       "      <td>none</td>\n",
       "      <td>0</td>\n",
       "    </tr>\n",
       "    <tr>\n",
       "      <th>1</th>\n",
       "      <td>0</td>\n",
       "      <td>0</td>\n",
       "      <td>1</td>\n",
       "      <td>0.0</td>\n",
       "      <td>1</td>\n",
       "      <td>0</td>\n",
       "      <td>none</td>\n",
       "      <td>0</td>\n",
       "    </tr>\n",
       "    <tr>\n",
       "      <th>2</th>\n",
       "      <td>0</td>\n",
       "      <td>0</td>\n",
       "      <td>2</td>\n",
       "      <td>0.0</td>\n",
       "      <td>2</td>\n",
       "      <td>0</td>\n",
       "      <td>none</td>\n",
       "      <td>0</td>\n",
       "    </tr>\n",
       "    <tr>\n",
       "      <th>3</th>\n",
       "      <td>0</td>\n",
       "      <td>0</td>\n",
       "      <td>3</td>\n",
       "      <td>0.0</td>\n",
       "      <td>3</td>\n",
       "      <td>0</td>\n",
       "      <td>none</td>\n",
       "      <td>0</td>\n",
       "    </tr>\n",
       "    <tr>\n",
       "      <th>4</th>\n",
       "      <td>0</td>\n",
       "      <td>0</td>\n",
       "      <td>4</td>\n",
       "      <td>0.0</td>\n",
       "      <td>4</td>\n",
       "      <td>0</td>\n",
       "      <td>none</td>\n",
       "      <td>0</td>\n",
       "    </tr>\n",
       "  </tbody>\n",
       "</table>\n",
       "</div>"
      ],
      "text/plain": [
       "   x  y  z  roi_num_schaeffer  roi_vox_num_schaeffer  \\\n",
       "0  0  0  0                0.0                      0   \n",
       "1  0  0  1                0.0                      1   \n",
       "2  0  0  2                0.0                      2   \n",
       "3  0  0  3                0.0                      3   \n",
       "4  0  0  4                0.0                      4   \n",
       "\n",
       "   roi_num_HarvardOxford_lat hemisphere_HarvOxford  \\\n",
       "0                          0                  none   \n",
       "1                          0                  none   \n",
       "2                          0                  none   \n",
       "3                          0                  none   \n",
       "4                          0                  none   \n",
       "\n",
       "   roi_num_HarvardOxford_bilat  \n",
       "0                            0  \n",
       "1                            0  \n",
       "2                            0  \n",
       "3                            0  \n",
       "4                            0  "
      ]
     },
     "execution_count": 51,
     "metadata": {},
     "output_type": "execute_result"
    }
   ],
   "source": [
    "# load the vox_coord df\n",
    "df_dir = grant_dir + '/mri_code/roi_info/'\n",
    "vox_coord_df = pd.read_csv(df_dir +  'vox_coord_mapper.csv')\n",
    "\n",
    "vox_coord_df.head()"
   ]
  },
  {
   "cell_type": "code",
   "execution_count": 42,
   "metadata": {},
   "outputs": [],
   "source": [
    "all_peeps_use_voxels_schaeffer = pd.read_csv(grant_dir + 'mri_code/roi_info/subj_voxels/all_peeps_use_voxels_schaeffer.csv')"
   ]
  },
  {
   "cell_type": "code",
   "execution_count": 47,
   "metadata": {},
   "outputs": [],
   "source": [
    "all_peeps_use_voxels_schaeffer_long = pd.wide_to_long(\n",
    "    all_peeps_use_voxels_schaeffer, stubnames='use_voxel_sub', sep='-', \n",
    "    i=['x', 'y', 'z', 'roi_num_schaeffer', 'roi_vox_num_schaeffer'], j='sub').reset_index()\n",
    "all_vox_df = all_peeps_use_voxels_schaeffer_long.drop(\n",
    "    columns='sub').groupby(\n",
    "    ['roi_num_schaeffer', 'roi_vox_num_schaeffer', 'x', 'y', 'z']).sum().reset_index()\n",
    "all_vox_df['use_vox'] = all_vox_df['use_voxel_sub'] == len(subjects)"
   ]
  },
  {
   "cell_type": "code",
   "execution_count": 48,
   "metadata": {},
   "outputs": [],
   "source": [
    "vox_coord_df_merge = vox_coord_df.merge(all_vox_df, on=['x', 'y', 'z', 'roi_num_schaeffer', 'roi_vox_num_schaeffer'])"
   ]
  },
  {
   "cell_type": "code",
   "execution_count": 50,
   "metadata": {},
   "outputs": [
    {
     "name": "stdout",
     "output_type": "stream",
     "text": [
      "sub-11\n",
      "sub-12\n",
      "sub-15\n",
      "sub-16\n",
      "sub-17\n",
      "sub-19\n",
      "sub-20\n",
      "sub-24\n",
      "sub-25\n",
      "sub-26\n",
      "sub-27\n",
      "sub-28\n",
      "sub-29\n",
      "sub-30\n",
      "sub-31\n",
      "sub-32\n",
      "sub-33\n",
      "sub-34\n",
      "sub-35\n",
      "sub-36\n",
      "sub-37\n",
      "sub-38\n",
      "sub-39\n",
      "sub-40\n",
      "sub-42\n",
      "sub-43\n",
      "sub-44\n",
      "sub-45\n",
      "sub-46\n",
      "sub-47\n",
      "sub-48\n",
      "sub-49\n",
      "sub-50\n",
      "sub-51\n",
      "sub-52\n",
      "sub-53\n",
      "sub-54\n",
      "sub-55\n",
      "sub-56\n",
      "sub-57\n",
      "sub-58\n",
      "sub-59\n",
      "sub-60\n",
      "sub-61\n"
     ]
    }
   ],
   "source": [
    "for sub_num in subjects:\n",
    "    peep = 'sub-' + str(sub_num)\n",
    "    print(peep)\n",
    "    csv_folder = fmriprep_dir + peep + '/masks/pulls/'\n",
    "    os.makedirs(csv_folder + 'single_trial_glms/', exist_ok=True)\n",
    "    for run_num in range(1, 6):\n",
    "        for trial_num in range(1, 46):\n",
    "            csv_suffix = 'single_trial_glm_tstat1_run0' + str(run_num) + '_trial' + ('%03d' % trial_num) + '.csv'\n",
    "            trial_dfs = []\n",
    "            for roi_num in range(1, 101):\n",
    "                schaeffer_csv_folder = csv_folder + 'schaeffer/single_trial_glms/roi_' + ('%03d' % roi_num) + '/'\n",
    "                csv_name = peep + '_schaeffer_roi_' + ('%03d' % roi_num) + '_' + csv_suffix\n",
    "                trial_df = pd.read_csv(schaeffer_csv_folder + csv_name, names=['voxnum', 'vox_val'], header=0)\n",
    "                trial_df['roi_num'] = roi_num\n",
    "                trial_df['study_block'] = run_num\n",
    "                trial_df['trial_num'] = trial_num\n",
    "                trial_df['subject'] = sub_num\n",
    "                trial_dfs.append(trial_df)\n",
    "            trial_df = pd.concat(trial_dfs)\n",
    "            trial_xyz_df = trial_df.merge(vox_coord_df_merge, left_on=['roi_num', 'voxnum'], \n",
    "                                          right_on=['roi_num_schaeffer', 'roi_vox_num_schaeffer'])\n",
    "            trial_xyz_df.to_csv(csv_folder + 'single_trial_glms/' + csv_suffix)"
   ]
  },
  {
   "cell_type": "code",
   "execution_count": null,
   "metadata": {},
   "outputs": [],
   "source": []
  }
 ],
 "metadata": {
  "kernelspec": {
   "display_name": "Python 3 (ipykernel)",
   "language": "python",
   "name": "python3"
  },
  "language_info": {
   "codemirror_mode": {
    "name": "ipython",
    "version": 3
   },
   "file_extension": ".py",
   "mimetype": "text/x-python",
   "name": "python",
   "nbconvert_exporter": "python",
   "pygments_lexer": "ipython3",
   "version": "3.9.7"
  }
 },
 "nbformat": 4,
 "nbformat_minor": 4
}
